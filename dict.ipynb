{
  "nbformat": 4,
  "nbformat_minor": 0,
  "metadata": {
    "colab": {
      "provenance": [],
      "authorship_tag": "ABX9TyOpcuB1MwrmTquX7K1kqkKa",
      "include_colab_link": true
    },
    "kernelspec": {
      "name": "python3",
      "display_name": "Python 3"
    },
    "language_info": {
      "name": "python"
    }
  },
  "cells": [
    {
      "cell_type": "markdown",
      "metadata": {
        "id": "view-in-github",
        "colab_type": "text"
      },
      "source": [
        "<a href=\"https://colab.research.google.com/github/Nisha60/DataScience/blob/main/dict.ipynb\" target=\"_parent\"><img src=\"https://colab.research.google.com/assets/colab-badge.svg\" alt=\"Open In Colab\"/></a>"
      ]
    },
    {
      "cell_type": "code",
      "execution_count": 1,
      "metadata": {
        "colab": {
          "base_uri": "https://localhost:8080/"
        },
        "id": "dobQCYgzXxe5",
        "outputId": "598660c7-6f26-403a-968a-94df5c44c426"
      },
      "outputs": [
        {
          "output_type": "stream",
          "name": "stdout",
          "text": [
            "{'HR': 25, 'FA': 30, 'IT': 50, 'DS': 10, 'Dotnet': 5}\n"
          ]
        }
      ],
      "source": [
        "# 10. create a dictionary called org and fill it with 5 departments, and each dept employee strenth.\n",
        "\n",
        "#Create the dic\n",
        "org = {\"HR\":25, \"FA\":30, \"IT\":50, \"DS\":10, \"Dotnet\":5}\n",
        "print(org)"
      ]
    }
  ]
}