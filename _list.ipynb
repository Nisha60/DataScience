{
  "nbformat": 4,
  "nbformat_minor": 0,
  "metadata": {
    "colab": {
      "provenance": [],
      "authorship_tag": "ABX9TyMKjOnQNQDZFoFhpURh8Wg3",
      "include_colab_link": true
    },
    "kernelspec": {
      "name": "python3",
      "display_name": "Python 3"
    },
    "language_info": {
      "name": "python"
    }
  },
  "cells": [
    {
      "cell_type": "markdown",
      "metadata": {
        "id": "view-in-github",
        "colab_type": "text"
      },
      "source": [
        "<a href=\"https://colab.research.google.com/github/Nisha60/DataScience/blob/main/_list.ipynb\" target=\"_parent\"><img src=\"https://colab.research.google.com/assets/colab-badge.svg\" alt=\"Open In Colab\"/></a>"
      ]
    },
    {
      "cell_type": "code",
      "execution_count": 1,
      "metadata": {
        "colab": {
          "base_uri": "https://localhost:8080/"
        },
        "id": "LdZCCKodXKad",
        "outputId": "74c1e6b1-8854-4856-d7b0-44fd59e4b451"
      },
      "outputs": [
        {
          "output_type": "stream",
          "name": "stdout",
          "text": [
            "HR Finance IT Marketing Sales\n"
          ]
        }
      ],
      "source": [
        "#9. create a list called dept and fill it with 5 departments, print this list using *list syntax\n",
        "\n",
        "#create the list\n",
        "dept = [\"HR\", \"Finance\", \"IT\", \"Marketing\", \"Sales\"]\n",
        "print(*dept)\n"
      ]
    }
  ]
}