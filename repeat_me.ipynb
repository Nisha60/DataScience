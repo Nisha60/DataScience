{
  "nbformat": 4,
  "nbformat_minor": 0,
  "metadata": {
    "colab": {
      "provenance": [],
      "authorship_tag": "ABX9TyNAOUPDhfbglDM1YXOitfFt",
      "include_colab_link": true
    },
    "kernelspec": {
      "name": "python3",
      "display_name": "Python 3"
    },
    "language_info": {
      "name": "python"
    }
  },
  "cells": [
    {
      "cell_type": "markdown",
      "metadata": {
        "id": "view-in-github",
        "colab_type": "text"
      },
      "source": [
        "<a href=\"https://colab.research.google.com/github/Nisha60/DataScience/blob/main/repeat_me.ipynb\" target=\"_parent\"><img src=\"https://colab.research.google.com/assets/colab-badge.svg\" alt=\"Open In Colab\"/></a>"
      ]
    },
    {
      "cell_type": "code",
      "execution_count": 1,
      "metadata": {
        "colab": {
          "base_uri": "https://localhost:8080/"
        },
        "id": "KDL3Qk8kUu57",
        "outputId": "ad372670-5deb-407f-e625-daf3e69ecb8e"
      },
      "outputs": [
        {
          "output_type": "stream",
          "name": "stdout",
          "text": [
            "Hello, World!\n",
            "Not enough\n"
          ]
        }
      ],
      "source": [
        "# 5. Define repeat_me that takes in a string and integer and prints out the string if the integer is above 50 else print not enough\n",
        "\n",
        "def repeat_me(s,n):\n",
        "  if n > 50:\n",
        "    print(s)\n",
        "  else:\n",
        "    print(\"Not enough\")\n",
        "\n",
        "repeat_me(\"Hello, World!\", 60)\n",
        "repeat_me(\"Hello, World!\", 40)\n"
      ]
    }
  ]
}