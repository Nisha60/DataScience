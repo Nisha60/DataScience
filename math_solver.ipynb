{
  "nbformat": 4,
  "nbformat_minor": 0,
  "metadata": {
    "colab": {
      "provenance": [],
      "authorship_tag": "ABX9TyP+VfSMRXtobGvWQb26kznB",
      "include_colab_link": true
    },
    "kernelspec": {
      "name": "python3",
      "display_name": "Python 3"
    },
    "language_info": {
      "name": "python"
    }
  },
  "cells": [
    {
      "cell_type": "markdown",
      "metadata": {
        "id": "view-in-github",
        "colab_type": "text"
      },
      "source": [
        "<a href=\"https://colab.research.google.com/github/Nisha60/DataScience/blob/main/math_solver.ipynb\" target=\"_parent\"><img src=\"https://colab.research.google.com/assets/colab-badge.svg\" alt=\"Open In Colab\"/></a>"
      ]
    },
    {
      "cell_type": "code",
      "execution_count": 1,
      "metadata": {
        "colab": {
          "base_uri": "https://localhost:8080/"
        },
        "id": "rYVnz6eFQ1Sk",
        "outputId": "9a7749b0-6eab-4aad-93d9-2414720dccb7"
      },
      "outputs": [
        {
          "output_type": "stream",
          "name": "stdout",
          "text": [
            "3\n"
          ]
        }
      ],
      "source": [
        "# 2. Define a math_solver that take 3 arguments and use them in the equation 5x^3-7y^2+8z-25 and return the value\n",
        "\n",
        "def math_sol(x,y,z):\n",
        "\n",
        "# calculation\n",
        "  p1 = 5 *(x **3)\n",
        "  p2 = -7 *(y **2)\n",
        "  p3 = 8 * z\n",
        "  constant = -25\n",
        "\n",
        "# combine all parts\n",
        "  result = p1 + p2 + p3 + constant\n",
        "  return result\n",
        "\n",
        "#Define the code\n",
        "x = 2\n",
        "y = 2\n",
        "z = 2\n",
        "\n",
        "result = math_sol(x,y,z)\n",
        "print(result)\n"
      ]
    }
  ]
}