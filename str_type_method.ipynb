{
  "nbformat": 4,
  "nbformat_minor": 0,
  "metadata": {
    "colab": {
      "provenance": [],
      "authorship_tag": "ABX9TyNWXoBb1c/45z3lxI4WSLnO",
      "include_colab_link": true
    },
    "kernelspec": {
      "name": "python3",
      "display_name": "Python 3"
    },
    "language_info": {
      "name": "python"
    }
  },
  "cells": [
    {
      "cell_type": "markdown",
      "metadata": {
        "id": "view-in-github",
        "colab_type": "text"
      },
      "source": [
        "<a href=\"https://colab.research.google.com/github/Nisha60/DataScience/blob/main/str_type_method.ipynb\" target=\"_parent\"><img src=\"https://colab.research.google.com/assets/colab-badge.svg\" alt=\"Open In Colab\"/></a>"
      ]
    },
    {
      "cell_type": "code",
      "execution_count": 3,
      "metadata": {
        "id": "8Mrd9EIpRuDJ"
      },
      "outputs": [],
      "source": [
        "#4. List out the methods of str type varibale and define str_methods that uses the str type methods inside the functions\n",
        "\n",
        "def str_methods(s):\n",
        "  lower_case = s.lower()\n",
        "  upper_case = s.upper()\n",
        "  stripped = s.strip()\n",
        "  replaceed = s.replace()\n",
        "  split_list = s.split('')\n",
        "  joined_string = '-'.join(split_list)\n",
        "  find_index = s.find('example')\n",
        "  is_alpha = s.isalpha()\n",
        "  is_digit = s.isdigit()\n",
        "\n",
        "  return {\n",
        "      \"lower_case\": lower_case,\n",
        "      \"upper_case\": upper_case,\n",
        "      \"stripped\": stripped,\n",
        "      \"replaceed\": replaceed,\n",
        "      \"split_list\": split_list,\n",
        "      \"joined_string\": joined_string,\n",
        "  }\n",
        "\n",
        "  #exg usage\n",
        "  s = \" Hello old world \"\n",
        "  result = str_methods(s)\n",
        "  print(result)"
      ]
    }
  ]
}