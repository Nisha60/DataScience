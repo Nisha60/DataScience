{
  "nbformat": 4,
  "nbformat_minor": 0,
  "metadata": {
    "colab": {
      "provenance": [],
      "authorship_tag": "ABX9TyPkBZEu8NI+lCVZsYCBIb9m",
      "include_colab_link": true
    },
    "kernelspec": {
      "name": "python3",
      "display_name": "Python 3"
    },
    "language_info": {
      "name": "python"
    }
  },
  "cells": [
    {
      "cell_type": "markdown",
      "metadata": {
        "id": "view-in-github",
        "colab_type": "text"
      },
      "source": [
        "<a href=\"https://colab.research.google.com/github/Nisha60/DataScience/blob/main/_word_play.ipynb\" target=\"_parent\"><img src=\"https://colab.research.google.com/assets/colab-badge.svg\" alt=\"Open In Colab\"/></a>"
      ]
    },
    {
      "cell_type": "code",
      "execution_count": 1,
      "metadata": {
        "colab": {
          "base_uri": "https://localhost:8080/"
        },
        "id": "NXi57KNLVTPP",
        "outputId": "4590e35e-bc9e-4d64-cfc1-0f4e8fc6e950"
      },
      "outputs": [
        {
          "output_type": "stream",
          "name": "stdout",
          "text": [
            "['banana', 'pineapple']\n"
          ]
        }
      ],
      "source": [
        "# 6. Define word_play that takes three words as arguments and return only those words\n",
        "#that have length greater than 5 char, call the word_play function with tuple\n",
        "\n",
        "def word_play(*words):\n",
        "  result = [word for word in words if len(word) > 5]\n",
        "  return result\n",
        "\n",
        "words_tuple = (\"apple\", \"banana\", \"mango\", \"kiwi\", \"pineapple\")\n",
        "result = word_play(*words_tuple)\n",
        "print(result)"
      ]
    }
  ]
}