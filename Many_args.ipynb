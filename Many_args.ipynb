{
  "nbformat": 4,
  "nbformat_minor": 0,
  "metadata": {
    "colab": {
      "provenance": [],
      "authorship_tag": "ABX9TyNfXDLkQo5h9r9GYIP0zpvA",
      "include_colab_link": true
    },
    "kernelspec": {
      "name": "python3",
      "display_name": "Python 3"
    },
    "language_info": {
      "name": "python"
    }
  },
  "cells": [
    {
      "cell_type": "markdown",
      "metadata": {
        "id": "view-in-github",
        "colab_type": "text"
      },
      "source": [
        "<a href=\"https://colab.research.google.com/github/Nisha60/DataScience/blob/main/Many_args.ipynb\" target=\"_parent\"><img src=\"https://colab.research.google.com/assets/colab-badge.svg\" alt=\"Open In Colab\"/></a>"
      ]
    },
    {
      "cell_type": "code",
      "execution_count": 1,
      "metadata": {
        "colab": {
          "base_uri": "https://localhost:8080/"
        },
        "id": "InPaWBQHWb2v",
        "outputId": "ad8a0839-e856-4149-d373-a7963c3e80e1"
      },
      "outputs": [
        {
          "output_type": "stream",
          "name": "stdout",
          "text": [
            "1\n",
            "2\n",
            "3\n",
            "4\n",
            "5\n",
            "6\n",
            "7\n",
            "8\n",
            "9\n",
            "10\n",
            "Not enough arguments\n"
          ]
        }
      ],
      "source": [
        "#7. Deine many_args with *tuple args as argument which prints the content of\n",
        "# arguments only if there are 10 or more args\n",
        "\n",
        "def many_args(*args):\n",
        "  if len(args) >= 10:\n",
        "    for arg in args:\n",
        "      print(arg)\n",
        "  else:\n",
        "    print(\"Not enough arguments\")\n",
        "\n",
        "many_args(1,2,3,4,5,6,7,8,9,10)\n",
        "many_args(1,2,3,4,5,6,7,8,9)"
      ]
    }
  ]
}